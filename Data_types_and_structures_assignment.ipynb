{
  "nbformat": 4,
  "nbformat_minor": 0,
  "metadata": {
    "colab": {
      "provenance": []
    },
    "kernelspec": {
      "name": "python3",
      "display_name": "Python 3"
    },
    "language_info": {
      "name": "python"
    }
  },
  "cells": [
    {
      "cell_type": "markdown",
      "source": [
        "##Theory Questions##"
      ],
      "metadata": {
        "id": "kXxrqptke1UW"
      }
    },
    {
      "cell_type": "markdown",
      "source": [
        "Q1: What are data structures, and why are they important?\n",
        "\n",
        "Answer: Data structures is a way of organizing and storing data so that they can be accessed and manipulated effeciently.\n",
        "They provide efficient ways to manage information based on its characteristics and intended use.\n",
        "They are important because they are containers that hold data and determine how one can interact with it.\n",
        "Different containers are better suited for different types of items and once we understand them then only we can perform calculation and analysis on different forms of data effeciently and enhance the performance of the program.\n",
        "Data structures also impact memory usage and optimize searching and sorting operations."
      ],
      "metadata": {
        "id": "zFzgGTdtbclX"
      }
    },
    {
      "cell_type": "markdown",
      "source": [
        "Q2: Explain the difference between mutable and immutable data types with examples.\n",
        "\n",
        "Answer:\n",
        "Mutable example: Lists are ordered, mutable collections of elements. Lists can hold items of various data types that is heterogenous data types (numbers, strings, and even other lists). One can add, remove, or modify elements within a list using indexing and slicing. Lists are versatile for storing and managing collections that might change.\n",
        "\n",
        "my_list= [\"star\", 3, True,]\n",
        "\n",
        "my_list[0]=\"moon\"\n",
        "\n",
        "print(my_list)\n",
        "\n",
        "Output:\n",
        "['moon', 3, True]\n",
        "\n",
        "Immutable example: Tuples are ordered, immutable collections of elements, similar to lists. However, once created, the items in a tuple cannot be changed. They provide a secure way to store data that shouldn't be modified.\n",
        "Elements can be accessed using indexing and slicing, but their content cannot be modified. Tuples are useful for representing fixed datasets or configurations.\n",
        "\n",
        "tuple1=(1,2,3,4,5)\n",
        "\n",
        "tuple1[0]=6\n",
        "\n",
        "Output:\n",
        "TypeError                                 Traceback (most recent call last)\n",
        "<ipython-input-12-cfe6024c34d9> in <cell line: 3>()\n",
        "      1 #Q5: Create a list and tuple in Python, and demonstrate how attempting to change an element works differently for each.\n",
        "      2 tuple1=(1,2,3,4,5)\n",
        "----> 3 tuple1[0]=6\n",
        "\n",
        "TypeError: 'tuple' object does not support item assignment\n"
      ],
      "metadata": {
        "id": "8qQDOGD6dt5F"
      }
    },
    {
      "cell_type": "markdown",
      "source": [
        "Q3: What are the main differences between lists and tuples in Python?\n",
        "\n",
        "Answer: Lists are ordered, mutable collections of elements. Lists can hold items of various data types that is heterogenous data types (numbers, strings, and even other lists). One can add, remove, or modify elements within a list using indexing and slicing. Lists are versatile for storing and managing collections that might change.\n",
        "\n",
        "On the other hand, tuples are ordered, immutable collections of elements, similar to lists. However, once created, the items in a tuple cannot be changed. They provide a secure way to store data that shouldn't be modified.\n",
        "Elements can be accessed using indexing and slicing, but their content cannot be modified. Tuples are useful for representing fixed datasets or configurations."
      ],
      "metadata": {
        "id": "_WiYlor3jDAf"
      }
    },
    {
      "cell_type": "markdown",
      "source": [
        "Q4: Describe how dictionaries store data.\n",
        "\n",
        "Answer: Dictionaries store data in the form of key:value pairs. Dictionaries are written with curly brackets, and have keys and values. The values in dictionary items can be of any data type.\n",
        "\n",
        "For example: thisdict ={\n",
        "\"Name\": \"Alisha\",\n",
        "\n",
        "\"Student\": False,\n",
        "\n",
        "\"birth_year\": 2016,\n",
        "\n",
        "\"Friends\": [\"Raj\", \"wendy\", \"billie\"]\n",
        "}\n",
        "\n",
        "Dictionaries cannot have two items with the same key. Dictionaries are ordered, it means that the items have a defined order, and that order will not change. Dictionaries are changeable, and elements can be changed, added or removed after the dictionary has been created. They are also unindexed."
      ],
      "metadata": {
        "id": "zX-fdmCvjlA_"
      }
    },
    {
      "cell_type": "markdown",
      "source": [
        "Q5: Why might you use a set instead of a list in Python?\n",
        "\n",
        "Answer: One might use a set instead of a list because sets are unordered collections of unique elements. The order doesn't matter, and duplicate entries are not allowed. Therefore if the situation requires unique enteries without duplicates sets are preferrable than lists.They are also useful for checking membership if an item exists or finding the intersection/difference between sets."
      ],
      "metadata": {
        "id": "9w3dCLS_kHNK"
      }
    },
    {
      "cell_type": "markdown",
      "source": [
        "Q6: What is a string in Python, and how is it different from a list?\n",
        "\n",
        "Answer: String in python are characters arranged in an unchangeable order. Like writing a sentence, a paragraph, or a piece of text. Each character in the string can be accessed by its index, or position. Substrings can be extracted using slicing. Strings can be joined together and altered using a variety of techniques like find, replace, etc. Strings can't be modified like lists and therefore they are immutable.\n",
        "\n",
        "Lists on the other hand are ordered, mutable collections of elements. It's like a mom's bag as it can contain various types of data like boolean, integer, strings and other lists as well. Lists are versatile for storing and managing collections that might change. Lists offer a lot of flexibility when storing and manupulating data and the data within the list can be added, removed or manipulated easliy."
      ],
      "metadata": {
        "id": "9X_ijlv3kmlj"
      }
    },
    {
      "cell_type": "markdown",
      "source": [
        "Q7: How do tuples ensure data integrity in Python?\n",
        "\n",
        "Answer: When a tuples are created, its elements cannot be modified unlike lists and other mutable data types. This immutable nature guarantees data integrity, making tuples a trustworthy choice for storing fixed collections of items."
      ],
      "metadata": {
        "id": "FmsHhUBhetd5"
      }
    },
    {
      "cell_type": "markdown",
      "source": [
        "Q8: What is a hash table, and how does it relate to dictionaries in Python?\n",
        "\n",
        "Answer: In Python, hash tables are implemented through the built-in data type i.e, dictionary. A hash table is a type of data structure that maps keys to its value pairs. It basically makes use of a function that computes an index value that in turn holds the elements to be searched, inserted, removed, etc. This makes it easy and fast to access data.\n",
        "\n",
        "In general, hash tables store key-value pairs and the key is generated using a hash function. Hash table in Python is implemented through the built-in dictionary data type. The keys of a dictionary in Python are generated by a hashing function. The elements of a dictionary are not ordered and they can be changed. An example of a dictionary can be a mapping of student names and their student IDs."
      ],
      "metadata": {
        "id": "Ha0jb9BKnrLg"
      }
    },
    {
      "cell_type": "markdown",
      "source": [
        "Q9: Can lists contain different data types in Python?\n",
        "\n",
        "Answer: Lists can contain different types of data and other lists within it as well. It can be referred to as mom's bag as it can contain various types of data like boolean, integer,complex numbers, strings and other lists. They are versatile for storing and managing collections that might change. Lists offer a lot of flexibility when storing and manupulating data and the data within the list can be added, removed or manipulated easliy as they are mutable in nature."
      ],
      "metadata": {
        "id": "epK0htL4ns9W"
      }
    },
    {
      "cell_type": "markdown",
      "source": [
        "Q10: Explain why strings are immutable in Python?\n",
        "\n",
        "Answer: Strings are immutable in Python because they don't support item assignment like lists do. A string's character can be accesses through index but they can't be modified like mutable data structures like lists. This is the reason they are immutable in nature. However, a string's substring can be accessed and manipulated through slicing and can be modified through techniques like replace."
      ],
      "metadata": {
        "id": "cKjZVwlboT3s"
      }
    },
    {
      "cell_type": "markdown",
      "source": [
        "Q11: What advantages do dictionaries offer over lists for certain tasks?\n",
        "\n",
        "Answer: Dictionaries are used to store data values in key:value pairs. Dictionaries cannot have two items with the same key, which means that dictionaries don't allow duplicates. It can also contain any data type within it. Therefore, dictionaries are more preferrable than lists because disctionaries don't allow duplicate values and they can store data in the form of key value pairs. So if employee details are to be stored dictionaries would be preferred as it can store all details of different data types in pairs and also remove duplicates.\n",
        "\n"
      ],
      "metadata": {
        "id": "j7RmGkP5pKdK"
      }
    },
    {
      "cell_type": "markdown",
      "source": [
        "Q12: Describe a scenario where a tuple would be preferable over a list.\n",
        "\n",
        "Answer: Tuples are ordered, immutable collections of elements, similar to lists.\n",
        "However, once created, the items in a tuple cannot be changed. They provide a secure way to store data that shouldn't be modified. Elements of a tuple can be accessed using indexing and slicing, but their content cannot be modified. Therefore they are useful for representing fixed datasets or configurations.\n",
        "\n",
        "So in a scenario where data needs to be fixed for for indentity purposes like for example Aadhar card in India or account number. In this case the number for each individual is unique and should not be changed and therefore tuples are useful for such situations where the data needs to stay fixed."
      ],
      "metadata": {
        "id": "TAwlcRN0pONO"
      }
    },
    {
      "cell_type": "markdown",
      "source": [
        "Q13: How do sets handle duplicate values in Python?\n",
        "\n",
        "Answer: Sets cannot have two items with the same value. If duplicate values are entered in the set, they get ignored and are automatically removed and only one instance of the data remains in the set."
      ],
      "metadata": {
        "id": "hIsbCbeKqRpY"
      }
    },
    {
      "cell_type": "markdown",
      "source": [
        "Q14:How does the “in” keyword work differently for lists and dictionaries?\n",
        "\n",
        "Answer: The in keyword in Python is used to check for membership, but it behaves differently when applied to lists and dictionaries. The in keyword checks if a specific value or element is present in the list. However in dictionaries the in keyword checks if a key is present in the dictionary, not the value. To check if a value is present in a dictionary, the values() method has to be used with the in keyword."
      ],
      "metadata": {
        "id": "EnC2cWQgqVe-"
      }
    },
    {
      "cell_type": "markdown",
      "source": [
        "Q15: Can you modify the elements of tuple? Explain why or why not.\n",
        "\n",
        "Answer: Tuples are designed to be immutable data structures. This design ensures that their content remains constant throughout their lifetime, making them ideal for storing data that should not be accidentally altered. This immutable nature makes tuples great for data integrity and makes the performance of the program faster as operations on tuples are generally faster than those on lists. However, if a tuple contains mutable objects like lists, the contents of those mutable objects can be modified."
      ],
      "metadata": {
        "id": "SfnZd-fiqW2_"
      }
    },
    {
      "cell_type": "markdown",
      "source": [
        "Q16: What is a nested dictionary, and give an example of its use case?\n",
        "\n",
        "Answer: A nested dictionary is a dictionary that contains another dictionary or dictionaries as its value. This structure allows for hierarchical or multi-level data storage, making it ideal for representing complex data relationships.\n",
        "\n",
        "Use case example:\n",
        "A company might want to store data for employees grouped by departments.\n",
        "\n",
        "\n",
        "employees =\n",
        "{\n",
        "   \n",
        "   \n",
        "    \"Finance\": {\n",
        "        1001: {\"name\": \"Soumya\", \"role\": \"Analyst\", \"salary\": 50000},\n",
        "        1002: {\"name\": \"Bijay\", \"role\": \"Clerk\", \"salary\": 20000}\n",
        "    },\n",
        "\n",
        "\n",
        "    \"HR\": {\n",
        "        2001: {\"name\": \"Chinmayi\", \"role\": \"talent acquisition intern\", \"salary\": 45000},\n",
        "        2002: {\"name\": \"Dhruv\", \"role\": \"HR Manager\", \"salary\": 85000}\n",
        "    }\n",
        "\n",
        "\n",
        "}\n",
        "\n",
        "Updating, removing and adding details of new and old employees becomes easier.\n"
      ],
      "metadata": {
        "id": "-QjnoaH6qj0T"
      }
    },
    {
      "cell_type": "markdown",
      "source": [
        "Q17: Describe the time complexity of accessing elements in a dictionary.\n",
        "\n",
        "Answer: The time complexity of accessing elements in a dictionary is:\n",
        "1. Access by Key (dict[key]): O(1) (average) because dictionaries use hash tables.\n",
        "2. Key Existence Check (key in dict): O(1) (average) due to hashing.\n",
        "3. Search for Value (value in dict.values()): O(n) since it requires iterating through all values.\n",
        "4. Iterating Through Dictionary: O(n) for keys, values, or items.\n",
        "\n",
        "In rare cases (due to hash collisions), the worst-case complexity for key access can be O(n)."
      ],
      "metadata": {
        "id": "1XSs3msyqlCD"
      }
    },
    {
      "cell_type": "markdown",
      "source": [
        "Q18: In what situations are lists preferred over dictionaries?\n",
        "\n",
        "Answer: Lists preserve the insertion order of elements. If one needs to maintain and manipulate a sequential order of items, a list is more appropriate. Lists are simpler and efficient for storing collections of values where each element is accessed by its index rather than a key. If you don't need to associate data with unique keys, a list is a better choice. Lists are more memory-efficient than dictionaries for small datasets since dictionaries require extra space to store keys and handle hashing. Lists are naturally designed for accessing elements by their index (e.g., list[2]). If you primarily rely on positional access, lists are a better fit."
      ],
      "metadata": {
        "id": "ctyWyAutqmDK"
      }
    },
    {
      "cell_type": "markdown",
      "source": [
        "Q19: Why are dictionaries considered unordered, and how does that affect data retrieval?\n",
        "\n",
        "Answer: A dictionary is termed an unordered collection of objects because dictionaries do not maintain any inherent order of the items based on when they were added. Now dictionaries do retain insertion order as an implementation detail, meaning elements appear in the order they were added when you print or iterate over them.\n",
        "\n",
        "However, they are still called \"unordered\" because their primary function is fast key-based access, and they are not intended to be used as ordered collections like lists or tuples. So even though they appear ordered in Python 3.7+, the emphasis is still on key-value mapping rather than sequence.\n",
        "\n",
        "The lack of strict ordering does not affect this because keys are stored based on their hash values, not their position."
      ],
      "metadata": {
        "id": "h0o-UriIqnsT"
      }
    },
    {
      "cell_type": "markdown",
      "source": [
        "Q20:Explain the difference between a list and a dictionary in terms of data retrieval.\n",
        "\n",
        "Answer: List: Data is retrieved using index-based access. Each element in the list is associated with a numeric index starting from 0. Retrieving an element by index is O(1) (constant time) because Python can directly access the memory location of the indexed element.\n",
        "\n",
        "Dictionary: Data is retrieved using key-based access. Each element is stored as a key-value pair, and you use the key to retrieve the associated value.\n",
        "Retrieving a value by key is O(1) (average case) because dictionaries use a hash table for fast lookups."
      ],
      "metadata": {
        "id": "OAdNXsovqotr"
      }
    },
    {
      "cell_type": "markdown",
      "source": [
        "##Practical Questions##"
      ],
      "metadata": {
        "id": "57h-npHwqKpO"
      }
    },
    {
      "cell_type": "code",
      "source": [
        "#Q1: Write a code to create a string with your name and print it.\n",
        "Name= \"Isha Yadav\"\n",
        "print(Name)"
      ],
      "metadata": {
        "colab": {
          "base_uri": "https://localhost:8080/"
        },
        "id": "g-d-TcqNSY3u",
        "outputId": "2e35a5b1-12a8-43fa-d43d-df1f3399b6ec"
      },
      "execution_count": null,
      "outputs": [
        {
          "output_type": "stream",
          "name": "stdout",
          "text": [
            "Isha Yadav\n"
          ]
        }
      ]
    },
    {
      "cell_type": "code",
      "source": [
        "#Q2: Write a code to find the length of the string \"Hello World\".\n",
        "print(len(\"Hello World\"))"
      ],
      "metadata": {
        "colab": {
          "base_uri": "https://localhost:8080/"
        },
        "id": "ugVbu-L5Sn4u",
        "outputId": "6cd15661-7724-4057-cf12-b967681b00e4"
      },
      "execution_count": null,
      "outputs": [
        {
          "output_type": "stream",
          "name": "stdout",
          "text": [
            "11\n"
          ]
        }
      ]
    },
    {
      "cell_type": "code",
      "source": [
        "#Q3: Write a code to slice the first 3 characters from the string \"Python Programming\"\n",
        "print(\"Python Programming\"[0:3])"
      ],
      "metadata": {
        "colab": {
          "base_uri": "https://localhost:8080/"
        },
        "id": "FE_eGqcFS15m",
        "outputId": "a44d7cae-7960-4afb-b86b-c0ad5933a79e"
      },
      "execution_count": null,
      "outputs": [
        {
          "output_type": "stream",
          "name": "stdout",
          "text": [
            "Pyt\n"
          ]
        }
      ]
    },
    {
      "cell_type": "code",
      "source": [
        "#Q4: Write a code to convert the string \"hello\" to uppercase.\n",
        "print(\"hello\".upper())"
      ],
      "metadata": {
        "colab": {
          "base_uri": "https://localhost:8080/"
        },
        "id": "RKKa3I8BTKOj",
        "outputId": "9706d0e6-b528-432e-c42d-4bcdbc64b7a6"
      },
      "execution_count": null,
      "outputs": [
        {
          "output_type": "stream",
          "name": "stdout",
          "text": [
            "HELLO\n"
          ]
        }
      ]
    },
    {
      "cell_type": "code",
      "source": [
        "#Q5: Write a code to replace the word \"apple\" with \"orange\" in the string \"I like apple\".\n",
        "Statement= \"I like apple\"\n",
        "new_statement= Statement.replace(\"apple\", \"orange\")\n",
        "print(new_statement)"
      ],
      "metadata": {
        "id": "arKmwSt-TVqf",
        "colab": {
          "base_uri": "https://localhost:8080/"
        },
        "outputId": "fbe1f93b-dcf3-40a6-b281-586b86f07b47"
      },
      "execution_count": 29,
      "outputs": [
        {
          "output_type": "stream",
          "name": "stdout",
          "text": [
            "I like orange\n"
          ]
        }
      ]
    },
    {
      "cell_type": "code",
      "source": [
        "#Q6: Write a code to create a list with numbers 1 to 5 and print it.\n",
        "lis=[1,2,3,4,5]\n",
        "print(lis)"
      ],
      "metadata": {
        "id": "12fYrnh6Tulx",
        "colab": {
          "base_uri": "https://localhost:8080/"
        },
        "outputId": "b2efcf8e-f16c-4502-f1d4-f70d27508766"
      },
      "execution_count": 30,
      "outputs": [
        {
          "output_type": "stream",
          "name": "stdout",
          "text": [
            "[1, 2, 3, 4, 5]\n"
          ]
        }
      ]
    },
    {
      "cell_type": "code",
      "source": [
        "#Q7: Write a code to append the number 10 to the list [1,2,3,4]\n",
        "lis=[1,2,3,4]\n",
        "lis.append(10)\n",
        "print(lis)"
      ],
      "metadata": {
        "colab": {
          "base_uri": "https://localhost:8080/"
        },
        "id": "H5H2Mab4VD63",
        "outputId": "fdfd082e-84ed-4657-b829-b2d27c0f243b"
      },
      "execution_count": 31,
      "outputs": [
        {
          "output_type": "stream",
          "name": "stdout",
          "text": [
            "[1, 2, 3, 4, 10]\n"
          ]
        }
      ]
    },
    {
      "cell_type": "code",
      "source": [
        "#Q8: Write a code to remove the number 3 from the list [1,2,3,4,5]\n",
        "lis=[1,2,3,4,5]\n",
        "lis.remove(3)\n",
        "print(lis)"
      ],
      "metadata": {
        "colab": {
          "base_uri": "https://localhost:8080/"
        },
        "id": "rLDrJBclVTg1",
        "outputId": "07814737-43ec-46d0-a75a-db516f65c13d"
      },
      "execution_count": 32,
      "outputs": [
        {
          "output_type": "stream",
          "name": "stdout",
          "text": [
            "[1, 2, 4, 5]\n"
          ]
        }
      ]
    },
    {
      "cell_type": "code",
      "source": [
        "#Q9: Write a code to access the second element in the list ['a','b','c','d']\n",
        "lis=['a','b','c','d']\n",
        "lis[1]"
      ],
      "metadata": {
        "colab": {
          "base_uri": "https://localhost:8080/",
          "height": 35
        },
        "id": "eYEBzPP_VfXD",
        "outputId": "1063d391-c0ee-483e-f089-2c785ebb763f"
      },
      "execution_count": 33,
      "outputs": [
        {
          "output_type": "execute_result",
          "data": {
            "text/plain": [
              "'b'"
            ],
            "application/vnd.google.colaboratory.intrinsic+json": {
              "type": "string"
            }
          },
          "metadata": {},
          "execution_count": 33
        }
      ]
    },
    {
      "cell_type": "code",
      "source": [
        "#Q10: Write a code to reverse the list [10,20,30,40,50]\n",
        "lis=[10,20,30,40,50]\n",
        "lis.reverse()\n",
        "print(lis)"
      ],
      "metadata": {
        "colab": {
          "base_uri": "https://localhost:8080/"
        },
        "id": "K6sesfSlV85G",
        "outputId": "eaa8b3d5-0468-451b-bc5b-c1c85ee5803e"
      },
      "execution_count": 36,
      "outputs": [
        {
          "output_type": "stream",
          "name": "stdout",
          "text": [
            "[50, 40, 30, 20, 10]\n"
          ]
        }
      ]
    },
    {
      "cell_type": "code",
      "source": [
        "#Q11: Write a code to create a tuple with the elements 10,20,30 and print it.\n",
        "tup=(10,20,30)\n",
        "print(tup)"
      ],
      "metadata": {
        "colab": {
          "base_uri": "https://localhost:8080/"
        },
        "id": "qLjyB2Fuaa4X",
        "outputId": "4a39d68b-dd17-413f-f8b9-26eabc606656"
      },
      "execution_count": 37,
      "outputs": [
        {
          "output_type": "stream",
          "name": "stdout",
          "text": [
            "(10, 20, 30)\n"
          ]
        }
      ]
    },
    {
      "cell_type": "code",
      "source": [
        "#Q12: Write a code to access the first element of the tuple ('apple', 'banana', 'cherry').\n",
        "tup=('apple', 'banana', 'cherry')\n",
        "tup[0]\n"
      ],
      "metadata": {
        "colab": {
          "base_uri": "https://localhost:8080/",
          "height": 35
        },
        "id": "-gpA0ca8amMR",
        "outputId": "ddbd42c6-f8a7-4e47-ade7-caae1980572d"
      },
      "execution_count": 38,
      "outputs": [
        {
          "output_type": "execute_result",
          "data": {
            "text/plain": [
              "'apple'"
            ],
            "application/vnd.google.colaboratory.intrinsic+json": {
              "type": "string"
            }
          },
          "metadata": {},
          "execution_count": 38
        }
      ]
    },
    {
      "cell_type": "code",
      "source": [
        "#Q13: Write a code to count how many times the number 2 appears in the tuple (1, 2, 3, 2, 4, 2).\n",
        "tup=(1, 2, 3, 2, 4, 2)\n",
        "tup.count(2)"
      ],
      "metadata": {
        "colab": {
          "base_uri": "https://localhost:8080/"
        },
        "id": "-0QUPzYsa3ZA",
        "outputId": "ad87d65d-e2b3-4bd3-ed68-443dfdeca513"
      },
      "execution_count": 39,
      "outputs": [
        {
          "output_type": "execute_result",
          "data": {
            "text/plain": [
              "3"
            ]
          },
          "metadata": {},
          "execution_count": 39
        }
      ]
    },
    {
      "cell_type": "code",
      "source": [
        "#Q14: Write a code to find the index of the element \"cat\" in the tuple ('dog', 'cat', 'rabbit').\n",
        "tup=('dog', 'cat', 'rabbit')\n",
        "tup.index('cat')\n"
      ],
      "metadata": {
        "colab": {
          "base_uri": "https://localhost:8080/"
        },
        "id": "6fG8Arc5bFWz",
        "outputId": "10906650-81ee-4af0-d2da-e7db7eda8d90"
      },
      "execution_count": 41,
      "outputs": [
        {
          "output_type": "execute_result",
          "data": {
            "text/plain": [
              "1"
            ]
          },
          "metadata": {},
          "execution_count": 41
        }
      ]
    },
    {
      "cell_type": "code",
      "source": [
        "#Q15: Write a code to check if the element \"banana\" is in the tuple ('apple', 'orange', 'banana').\n",
        "tup=('apple', 'orange','banana')\n",
        "if \"banana\" in tup:\n",
        "    print(\"banana\")"
      ],
      "metadata": {
        "colab": {
          "base_uri": "https://localhost:8080/"
        },
        "id": "UQ6sLRTWbOmc",
        "outputId": "56b62849-5f70-4cf3-f5cd-dcf320b11074"
      },
      "execution_count": 44,
      "outputs": [
        {
          "output_type": "stream",
          "name": "stdout",
          "text": [
            "banana\n"
          ]
        }
      ]
    },
    {
      "cell_type": "code",
      "source": [
        "#Q16: Write a code to create a set with the elements 1,2,3,4,5 and print it.\n",
        "set={1,2,3,4,5}\n",
        "print(set)"
      ],
      "metadata": {
        "colab": {
          "base_uri": "https://localhost:8080/"
        },
        "id": "j5f04zCSb0yH",
        "outputId": "73813ed0-ce53-4098-ecbe-fedf41708c34"
      },
      "execution_count": 45,
      "outputs": [
        {
          "output_type": "stream",
          "name": "stdout",
          "text": [
            "{1, 2, 3, 4, 5}\n"
          ]
        }
      ]
    },
    {
      "cell_type": "code",
      "source": [
        "#Q17: Write a code to add the element 6 to the set {1,2,3,4}.\n",
        "set={1,2,3,4}\n",
        "set.add(6)\n",
        "print(set)"
      ],
      "metadata": {
        "colab": {
          "base_uri": "https://localhost:8080/"
        },
        "id": "5Wa92arGb_PK",
        "outputId": "5d065b0a-772d-4e58-f80e-e84c7dd5001e"
      },
      "execution_count": 46,
      "outputs": [
        {
          "output_type": "stream",
          "name": "stdout",
          "text": [
            "{1, 2, 3, 4, 6}\n"
          ]
        }
      ]
    },
    {
      "cell_type": "code",
      "source": [
        "#Q18: Write a code to create a tuple with the elements 10,20,30 and print it.\n",
        "tup=(10,20,30)\n",
        "print(tup)"
      ],
      "metadata": {
        "colab": {
          "base_uri": "https://localhost:8080/"
        },
        "id": "YKkpfQnAcMXL",
        "outputId": "6c71edb1-f164-45ff-9a74-4297d3a4a5f2"
      },
      "execution_count": 47,
      "outputs": [
        {
          "output_type": "stream",
          "name": "stdout",
          "text": [
            "(10, 20, 30)\n"
          ]
        }
      ]
    },
    {
      "cell_type": "code",
      "source": [
        "#Q19: Write a code to access the first element of the tuple ('apple', 'banana', 'cherry').\n",
        "tup=('apple','banana','cherry')\n",
        "tup[0]"
      ],
      "metadata": {
        "colab": {
          "base_uri": "https://localhost:8080/",
          "height": 35
        },
        "id": "k6CEdP-XcaOL",
        "outputId": "70af418c-7a3f-491b-8d00-cd1c17f1aa26"
      },
      "execution_count": 48,
      "outputs": [
        {
          "output_type": "execute_result",
          "data": {
            "text/plain": [
              "'apple'"
            ],
            "application/vnd.google.colaboratory.intrinsic+json": {
              "type": "string"
            }
          },
          "metadata": {},
          "execution_count": 48
        }
      ]
    },
    {
      "cell_type": "code",
      "source": [
        "#Q20: Write a code to count how many times the number 2 appears in the tuple(1,2,3,2,4,2).\n",
        "tup=(1,2,3,2,4,2)\n",
        "tup.count(2)"
      ],
      "metadata": {
        "colab": {
          "base_uri": "https://localhost:8080/"
        },
        "id": "WAHCJCZ4c2Xp",
        "outputId": "4895683d-e077-4d4a-d345-26975178e20b"
      },
      "execution_count": 49,
      "outputs": [
        {
          "output_type": "execute_result",
          "data": {
            "text/plain": [
              "3"
            ]
          },
          "metadata": {},
          "execution_count": 49
        }
      ]
    },
    {
      "cell_type": "code",
      "source": [
        "#Q21: Write a code to find the index of the element \"cat\" in the tuple (\"dog\",\"cat\",\"rabbit\").\n",
        "tup=(\"dog\",\"cat\",\"rabbit\")\n",
        "tup.index(\"cat\")"
      ],
      "metadata": {
        "colab": {
          "base_uri": "https://localhost:8080/"
        },
        "id": "22m7MQf0dF7_",
        "outputId": "2083ca30-10cd-4920-f388-942fd80c2b3a"
      },
      "execution_count": 50,
      "outputs": [
        {
          "output_type": "execute_result",
          "data": {
            "text/plain": [
              "1"
            ]
          },
          "metadata": {},
          "execution_count": 50
        }
      ]
    },
    {
      "cell_type": "code",
      "source": [
        "#Q22: Write a code to check if the element \"banana\" is in the tuple ('apple', 'orange', 'banana').\n",
        "tup=(\"apple\",\"orange\",\"banana\")\n",
        "if \"banana\" in tup:\n",
        "  print(\"banana in tup\")\n",
        "else:\n",
        "  print(\"banana not in tup\")"
      ],
      "metadata": {
        "colab": {
          "base_uri": "https://localhost:8080/"
        },
        "id": "cnBCIoHWdb48",
        "outputId": "ce25fc79-7497-42f1-e504-639552c087a8"
      },
      "execution_count": 51,
      "outputs": [
        {
          "output_type": "stream",
          "name": "stdout",
          "text": [
            "banana in tup\n"
          ]
        }
      ]
    },
    {
      "cell_type": "code",
      "source": [
        "#Q23: Write a code to create a set with the elements 1,2,3,4,5 and print it.\n",
        "set={1,2,3,4,5}\n",
        "print(set)"
      ],
      "metadata": {
        "colab": {
          "base_uri": "https://localhost:8080/"
        },
        "id": "SiqdHefceKK-",
        "outputId": "71f4f829-14ee-46ba-bac9-a59bd9446737"
      },
      "execution_count": 52,
      "outputs": [
        {
          "output_type": "stream",
          "name": "stdout",
          "text": [
            "{1, 2, 3, 4, 5}\n"
          ]
        }
      ]
    },
    {
      "cell_type": "code",
      "source": [
        "#Q24: Write a code to add the element 6 to the set {1,2,3,4}.\n",
        "set={1,2,3,4}\n",
        "set.add(6)\n",
        "print(set)"
      ],
      "metadata": {
        "colab": {
          "base_uri": "https://localhost:8080/"
        },
        "id": "0OypsDmPeXA0",
        "outputId": "f2485528-9944-4bfa-f0dd-5a71df4dcbed"
      },
      "execution_count": 53,
      "outputs": [
        {
          "output_type": "stream",
          "name": "stdout",
          "text": [
            "{1, 2, 3, 4, 6}\n"
          ]
        }
      ]
    },
    {
      "cell_type": "markdown",
      "source": [
        "##End of assignment##"
      ],
      "metadata": {
        "id": "OJ21dCnselsX"
      }
    }
  ]
}